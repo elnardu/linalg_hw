{
 "cells": [
  {
   "cell_type": "code",
   "execution_count": 2,
   "metadata": {},
   "outputs": [],
   "source": [
    "import numpy as np\n",
    "import pandas as pd\n",
    "import sympy"
   ]
  },
  {
   "cell_type": "code",
   "execution_count": 3,
   "metadata": {},
   "outputs": [
    {
     "data": {
      "text/plain": [
       "array([[2, 0, 2, 0],\n",
       "       [1, 1, 1, 1],\n",
       "       [0, 0, 3, 2],\n",
       "       [1, 0, 0, 5]])"
      ]
     },
     "execution_count": 3,
     "metadata": {},
     "output_type": "execute_result"
    }
   ],
   "source": [
    "A = np.array([[2, 0, 2, 0], [1, 1, 1, 1], [0, 0, 3, 2], [1, 0, 0, 5]])\n",
    "A"
   ]
  },
  {
   "cell_type": "code",
   "execution_count": 39,
   "metadata": {},
   "outputs": [],
   "source": [
    "def det(A):\n",
    "    assert A.shape[0] == A.shape[1]\n",
    "\n",
    "    if A.shape == (2, 2):\n",
    "        solution = f\"({A[0, 0]})({A[1, 1]}) - ({A[0, 1]})({A[1, 0]})\"\n",
    "        return A[0, 0] * A[1, 1] - A[0, 1] * A[1, 0], solution\n",
    "    \n",
    "    solution = \"\"\n",
    "    det_value = 0\n",
    "    \n",
    "    for i in range(A.shape[1]):\n",
    "        sign = 1 if i % 2 == 0 else -1\n",
    "        sign_str = \"-\" if sign == -1 else \"+\"\n",
    "        \n",
    "        if A[0, i] != 0:\n",
    "            sub_matrix = np.c_[A[1:, 0:i], A[1:, i+1:]]\n",
    "            sub_det, sub_solution = det(sub_matrix)\n",
    "            solution += f\"{sign_str}({A[0, i]})({sub_solution})\"\n",
    "            det_value += sign * A[0, i] * sub_det\n",
    "            \n",
    "    \n",
    "    return det_value, solution\n",
    "        \n",
    "    "
   ]
  },
  {
   "cell_type": "code",
   "execution_count": 40,
   "metadata": {},
   "outputs": [
    {
     "data": {
      "text/plain": [
       "0"
      ]
     },
     "execution_count": 40,
     "metadata": {},
     "output_type": "execute_result"
    }
   ],
   "source": [
    "A[0:0].size"
   ]
  },
  {
   "cell_type": "code",
   "execution_count": 42,
   "metadata": {
    "scrolled": true
   },
   "outputs": [
    {
     "data": {
      "text/plain": [
       "(34,\n",
       " '+(2)(+(1)((3)(5) - (2)(0))-(1)((0)(5) - (2)(0))+(1)((0)(0) - (3)(0)))+(2)(+(1)((0)(5) - (2)(0))-(1)((0)(5) - (2)(1))+(1)((0)(0) - (0)(1)))')"
      ]
     },
     "execution_count": 42,
     "metadata": {},
     "output_type": "execute_result"
    }
   ],
   "source": [
    "det(A)"
   ]
  },
  {
   "cell_type": "code",
   "execution_count": 38,
   "metadata": {},
   "outputs": [
    {
     "data": {
      "text/plain": [
       "array([[1, 1, 1],\n",
       "       [0, 3, 2],\n",
       "       [0, 0, 5]])"
      ]
     },
     "execution_count": 38,
     "metadata": {},
     "output_type": "execute_result"
    }
   ],
   "source": [
    "A[1:, 1:]"
   ]
  },
  {
   "cell_type": "code",
   "execution_count": 45,
   "metadata": {},
   "outputs": [
    {
     "data": {
      "text/plain": [
       "1.0"
      ]
     },
     "execution_count": 45,
     "metadata": {},
     "output_type": "execute_result"
    }
   ],
   "source": [
    "np.linalg.det(np.eye(3))"
   ]
  },
  {
   "cell_type": "code",
   "execution_count": 46,
   "metadata": {},
   "outputs": [
    {
     "data": {
      "text/plain": [
       "124.99999999999994"
      ]
     },
     "execution_count": 46,
     "metadata": {},
     "output_type": "execute_result"
    }
   ],
   "source": [
    "np.linalg.det(5 * np.eye(3))"
   ]
  },
  {
   "cell_type": "code",
   "execution_count": 47,
   "metadata": {},
   "outputs": [
    {
     "data": {
      "text/plain": [
       "array([[5., 0., 0.],\n",
       "       [0., 5., 0.],\n",
       "       [0., 0., 5.]])"
      ]
     },
     "execution_count": 47,
     "metadata": {},
     "output_type": "execute_result"
    }
   ],
   "source": [
    "5 * np.eye(3)"
   ]
  },
  {
   "cell_type": "code",
   "execution_count": 48,
   "metadata": {},
   "outputs": [
    {
     "data": {
      "text/plain": [
       "3317.999999999996"
      ]
     },
     "execution_count": 48,
     "metadata": {},
     "output_type": "execute_result"
    }
   ],
   "source": [
    "np.linalg.det([[2, 4, 2, 6], [3, 3, 27, 33], [2, 1, 5, 2], [6, 1, -3, 3]])"
   ]
  },
  {
   "cell_type": "code",
   "execution_count": 49,
   "metadata": {},
   "outputs": [
    {
     "data": {
      "text/plain": [
       "3317.9999999999977"
      ]
     },
     "execution_count": 49,
     "metadata": {},
     "output_type": "execute_result"
    }
   ],
   "source": [
    "2 * np.linalg.det([[2, 4, 2, 6], [1, 1, 2, 0], [2, 1, 5, 2], [6, 1, -3, 3]]) + np.linalg.det([[2, 4, 2, 6], [1, 1, 23, 33], [2, 1, 5, 2], [6, 1, -3, 3]])"
   ]
  },
  {
   "cell_type": "code",
   "execution_count": 50,
   "metadata": {},
   "outputs": [
    {
     "data": {
      "text/plain": [
       "358.0"
      ]
     },
     "execution_count": 50,
     "metadata": {},
     "output_type": "execute_result"
    }
   ],
   "source": [
    "np.linalg.det([[2, 4, 2, 6], [3, 3, 7, 8], [2, 1, 5, 2], [6, 1, -3, 3]])"
   ]
  },
  {
   "cell_type": "code",
   "execution_count": 51,
   "metadata": {},
   "outputs": [
    {
     "data": {
      "text/plain": [
       "-358.00000000000045"
      ]
     },
     "execution_count": 51,
     "metadata": {},
     "output_type": "execute_result"
    }
   ],
   "source": [
    "(4*np.linalg.det([[3, 7, 8], [2, 5, 2], [6, -3, 3]])\n",
    "-3 * np.linalg.det([[2, 2, 6], [2, 5, 2], [6, -3, 3]])\n",
    "+ np.linalg.det([[2, 2, 6], [3, 7, 8], [6, -3, 3]])\n",
    " - np.linalg.det([[2, 2, 6], [3, 7, 8], [2, 5, 2]]))"
   ]
  },
  {
   "cell_type": "code",
   "execution_count": null,
   "metadata": {},
   "outputs": [],
   "source": []
  }
 ],
 "metadata": {
  "kernelspec": {
   "display_name": "Python 3",
   "language": "python",
   "name": "python3"
  },
  "language_info": {
   "codemirror_mode": {
    "name": "ipython",
    "version": 3
   },
   "file_extension": ".py",
   "mimetype": "text/x-python",
   "name": "python",
   "nbconvert_exporter": "python",
   "pygments_lexer": "ipython3",
   "version": "3.6.8"
  }
 },
 "nbformat": 4,
 "nbformat_minor": 2
}
