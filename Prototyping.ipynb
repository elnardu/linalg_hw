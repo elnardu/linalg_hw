{
 "cells": [
  {
   "cell_type": "code",
   "execution_count": 17,
   "metadata": {},
   "outputs": [],
   "source": [
    "import numpy as np\n",
    "import sympy\n",
    "\n",
    "import string"
   ]
  },
  {
   "cell_type": "code",
   "execution_count": 30,
   "metadata": {},
   "outputs": [],
   "source": [
    "a = np.array([\n",
    "    [1, 0, 1/3, 0, 3],\n",
    "    [0, 1, -2/3, 0, -1],\n",
    "    [0, 0, 0, 1, 0],\n",
    "    [0, 0, 0, 0, 0]\n",
    "])"
   ]
  },
  {
   "cell_type": "code",
   "execution_count": 49,
   "metadata": {},
   "outputs": [],
   "source": [
    "def show_solutions(rref_matrix):\n",
    "\n",
    "        def solution_format(solution):\n",
    "            return solution\n",
    "        \n",
    "        def get_freevars(num_freevars):\n",
    "            freevars = []\n",
    "            iterator = iter(string.ascii_lowercase)\n",
    "            for _ in range(num_freevars):\n",
    "                freevars.append(sympy.sympify(next(iterator)))\n",
    "            return freevars\n",
    "            \n",
    "\n",
    "        solution = {\n",
    "            'inconsistent': False,\n",
    "            'type': None, # line, plane, hyperplane\n",
    "            'param_vecs': []\n",
    "        }\n",
    "\n",
    "\n",
    "        for row in range(rref_matrix.shape[0]):\n",
    "            if rref_matrix[row, :-2].sum() == 0 and rref_matrix[row, -1] != 0:\n",
    "                solution['inconsistent'] = True\n",
    "                return solution_format(solution)\n",
    "\n",
    "\n",
    "        pivots = []\n",
    "        i = 0\n",
    "        j = 0\n",
    "        while i < rref_matrix.shape[0] and j < rref_matrix.shape[1] - 1:\n",
    "            if rref_matrix[i, j] == 0:\n",
    "                j += 1\n",
    "            else:\n",
    "                pivots.append((i, j))\n",
    "                j += 1\n",
    "                i += 1\n",
    "\n",
    "        num_freevars = rref_matrix.shape[1] - len(pivots) - 1\n",
    "        \n",
    "        cols = rref_matrix.shape[1] - 1\n",
    "        \n",
    "        if num_freevars == 0:\n",
    "            solution['type'] = 'Point'\n",
    "            \n",
    "            vec = np.zeros(shape=(cols,))\n",
    "            for row in range(min(rref_matrix.shape[0], cols)):\n",
    "                vec[row] = rref_matrix[row, -1]\n",
    "            solution['param_vecs'].append(vec)\n",
    "            \n",
    "            return solution_format(solution)\n",
    "    \n",
    "\n",
    "        freevars_cols = []\n",
    "        for col in range(rref_matrix.shape[1] - 1):\n",
    "            is_pivot = False\n",
    "            for pivot in pivots:\n",
    "                if pivot[1] == col:\n",
    "                    is_pivot = True\n",
    "                    break\n",
    "                elif pivot[1] > col:\n",
    "                    break\n",
    "            \n",
    "            if not is_pivot:\n",
    "                freevars_cols.append(col)\n",
    "                \n",
    "        \n",
    "        assert len(freevars_cols) == num_freevars\n",
    "        \n",
    "        for col in freevars_cols:\n",
    "            vec = np.zeros(shape=(cols,), dtype=)\n",
    "            \n",
    "            for row in range(rref_matrix.shape[0]):\n",
    "                vec[row] = -rref_matrix[row, col]\n",
    "                \n",
    "            vec[col] = 1\n",
    "            solution['param_vecs'].append(vec)\n",
    "            \n",
    "        vec = np.zeros(shape=(cols,))\n",
    "        for row in range(min(rref_matrix.shape[0], cols)):\n",
    "            vec[row] = rref_matrix[row, -1]\n",
    "        solution['param_vecs'].append(vec)\n",
    "        \n",
    "        if len(freevars_cols) == 1:\n",
    "            solution['type'] = 'Line'\n",
    "        elif len(freevars) == 2:\n",
    "            solution['type'] = 'Plane'\n",
    "        else:\n",
    "            solution['type'] = 'Hyperplane'\n",
    "            \n",
    "        return solution_format(solution)\n",
    "        \n",
    "        \n",
    "    "
   ]
  },
  {
   "cell_type": "code",
   "execution_count": 50,
   "metadata": {},
   "outputs": [
    {
     "data": {
      "text/plain": [
       "{'inconsistent': False,\n",
       " 'param_vecs': [array([-0.33333333,  0.66666667,  1.        , -0.        ]),\n",
       "  array([ 3., -1.,  0.,  0.])],\n",
       " 'type': 'Line'}"
      ]
     },
     "execution_count": 50,
     "metadata": {},
     "output_type": "execute_result"
    }
   ],
   "source": [
    "show_solutions(a)"
   ]
  },
  {
   "cell_type": "code",
   "execution_count": 51,
   "metadata": {},
   "outputs": [
    {
     "data": {
      "text/plain": [
       "array([[ 1.        ,  0.        ,  0.33333333,  0.        ,  3.        ],\n",
       "       [ 0.        ,  1.        , -0.66666667,  0.        , -1.        ],\n",
       "       [ 0.        ,  0.        ,  0.        ,  1.        ,  0.        ],\n",
       "       [ 0.        ,  0.        ,  0.        ,  0.        ,  0.        ]])"
      ]
     },
     "execution_count": 51,
     "metadata": {},
     "output_type": "execute_result"
    }
   ],
   "source": [
    "a"
   ]
  },
  {
   "cell_type": "code",
   "execution_count": 53,
   "metadata": {},
   "outputs": [
    {
     "data": {
      "text/plain": [
       "array([ 0.        ,  1.        , -0.66666667,  0.        ])"
      ]
     },
     "execution_count": 53,
     "metadata": {},
     "output_type": "execute_result"
    }
   ],
   "source": [
    "a[1, :-1]"
   ]
  },
  {
   "cell_type": "code",
   "execution_count": 56,
   "metadata": {},
   "outputs": [
    {
     "data": {
      "text/plain": [
       "True"
      ]
     },
     "execution_count": 56,
     "metadata": {},
     "output_type": "execute_result"
    }
   ],
   "source": [
    "np.all(a[-1, :-1] == 0)"
   ]
  },
  {
   "cell_type": "code",
   "execution_count": null,
   "metadata": {},
   "outputs": [],
   "source": []
  }
 ],
 "metadata": {
  "kernelspec": {
   "display_name": "Python [conda env:anaconda3]",
   "language": "python",
   "name": "conda-env-anaconda3-py"
  },
  "language_info": {
   "codemirror_mode": {
    "name": "ipython",
    "version": 3
   },
   "file_extension": ".py",
   "mimetype": "text/x-python",
   "name": "python",
   "nbconvert_exporter": "python",
   "pygments_lexer": "ipython3",
   "version": "3.6.7"
  }
 },
 "nbformat": 4,
 "nbformat_minor": 2
}
